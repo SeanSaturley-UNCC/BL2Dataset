{
 "cells": [
  {
   "cell_type": "markdown",
   "id": "b6a8fd45-366a-46fa-acff-6e6ee758660d",
   "metadata": {},
   "source": [
    "# Borderlands 2 Weapon Rarity Prediction – First Draft\n",
    "\n",
    "## Introduction\n",
    "\n",
    "For Project 3, I wanted to focus on data from my favorite game of all time, Borderlands 2. The goal is to predict weapon rarity based on various attributes, such as manufacturer, damage type, and required content. Weapon rarity plays a significant role in the game's progression and overall gameplay experience. By predicting rarity based on these attributes, we can provide insights that could assist in understanding weapon distribution and balance. "
   ]
  },
  {
   "cell_type": "markdown",
   "id": "c4959d70-2df7-4de5-946d-ee044dc094e4",
   "metadata": {
    "jp-MarkdownHeadingCollapsed": true
   },
   "source": [
    "## What is Regression?\n",
    "Regression is a statistical method used to find relationships between a dependent variable and independent variables. In my project, the dependent variable is weapon rarity, and the independent variables are attributes such as manufacturer, damage type, and required content.\n",
    "\n",
    "Linear regression finds the best-fit line that minimizes errors between actual and predicted values. The formula is:\n",
    "Y= β0 + β1X1 + β2X2 + ... + βnXn + ϵ\n",
    "\n",
    "For my project, the variables in the equation relate to the following:\n",
    "* Y is the predicted weapon rarity\n",
    "* X1, X2, ... Xn are the independent variables (e.g., manufacturer, damage type, etc.).\n",
    "* B0 is the intercept and Bn are the coefficients\n",
    "* ϵ is the error term"
   ]
  },
  {
   "cell_type": "markdown",
   "id": "18c86334-e3c0-4e03-8168-218647583a0d",
   "metadata": {},
   "source": [
    "## Experiment 1: Data Understanding\n",
    "The dataset contains the following columns:\n",
    "\n",
    "* Required Content: This one seems pretty relevant for predicting weapon rarity. Some weapons might be tied to specific content packs or downloadable content (DLCs), which could impact their rarity. I plan to keep this feature and see how it influences rarity prediction.\n",
    "\n",
    "* Item Name: Since each item name is unique, it doesn’t really help in predicting weapon rarity. I’ll likely exclude this feature from the model.\n",
    "\n",
    "* Flavor Text Perk: This one is mostly descriptive, but it could be useful for feature engineering later if it turns out to have any patterns connected to weapon rarity. I’ll keep an eye on it.\n",
    "\n",
    "* Manufacturer: This is a categorical feature (e.g., Hyperion, Jakobs). It could be useful since some manufacturers might have rarer weapons in the game, so it might affect the rarity prediction. I’ll test it out.\n",
    "\n",
    "* Damage Type: Another categorical feature (e.g., Fire, Corrosive). While it might not directly determine rarity, it could influence it depending on how weapons of different types are distributed in terms of rarity. This is worth exploring.\n",
    "\n",
    "* Dropped By: This feature tells us where the weapon drops, but it might not be very useful for predicting rarity. I’ll evaluate it during the analysis phase to see if it’s worth keeping.\n",
    "\n",
    "* Minimum Task Required: This could provide some valuable insight, especially since higher-difficulty tasks might drop rarer weapons. Depending on how it correlates with rarity, I might include it in the model.\n",
    "\n",
    "* Location: Not sure if this will be a strong predictor for rarity, but it’s still worth checking if certain locations tend to have rarer weapons. I’ll investigate this to see if it’s useful.\n",
    "\n",
    "* Rarity: This is the target variable, the one I’m trying to predict. It includes categories like Common, Rare, and Legendary, which are the different levels of rarity we’ll focus on.\n"
   ]
  },
  {
   "cell_type": "code",
   "execution_count": 178,
   "id": "d9ba4bfa-b8a7-487e-9a60-403b1db22556",
   "metadata": {},
   "outputs": [
    {
     "name": "stdout",
     "output_type": "stream",
     "text": [
      "\n",
      "Dataset Preview:\n",
      "                   Required Content           Item           Name Manufacturer           Damage Type               Dropped By          Minimum Task Required              Location     Rarity\n",
      "0                     Borderlands 2  Assault Rifle  Hammer Buster       Jakobs                   NaN                  McNally                       The Bane              The Dust  Legendary\n",
      "1                     Borderlands 2  Assault Rifle     KerBlaster       Torgue             Explosive               Midge-Mong                      Symbiosis  Southern Shelf - Bay  Legendary\n",
      "2                     Borderlands 2  Assault Rifle       Madhous!       Bandit  Multi (Nonexplosive)                  Mad Dog              Breaking the Bank             Lynchwood  Legendary\n",
      "3                     Borderlands 2  Assault Rifle           Ogre       Torgue             Explosive             King of Orcs  Magic Slaughter: Badass Round    Murderlin's Temple  Legendary\n",
      "4  Mr. Torgue's Campaign of Carnage  Assault Rifle     Shredifier       Vladof  Multi (Nonexplosive)  Hyperius the Invincible        Hyperius the Invincible    Washburne Refinery  Legendary\n"
     ]
    }
   ],
   "source": [
    "import pandas as pd\n",
    "\n",
    "pd.set_option('display.max_columns', None)\n",
    "pd.set_option('display.width', 1000)           \n",
    "pd.set_option('display.expand_frame_repr', False)  \n",
    "pd.set_option('display.max_colwidth', None)     \n",
    "\n",
    "file_path = r\"C:\\Users\\19857\\Downloads\\Borderlands 2 Loot Multi Pages 150520012018.xlsx\"\n",
    "sheet_names = ['Assault Rifles', 'Grenades', 'Pistols', 'Rocket Launchers', 'Shotguns', 'Sniper Rifles', 'SMGs']\n",
    "\n",
    "weapon_dataframes = []\n",
    "\n",
    "for sheet_name in sheet_names:\n",
    "    df = pd.read_excel(file_path, sheet_name=sheet_name, skiprows=1)\n",
    "    df = df.drop(columns=['Flavor Text Perk'], errors='ignore')\n",
    "    \n",
    "    weapon_dataframes.append(df)\n",
    "\n",
    "combined_df = pd.concat(weapon_dataframes, ignore_index=True)\n",
    "\n",
    "print(\"\\nDataset Preview:\")\n",
    "print(combined_df.head())\n"
   ]
  },
  {
   "cell_type": "code",
   "execution_count": null,
   "id": "4aec6426-1cb5-43e4-a16e-b48e5e6eea1d",
   "metadata": {},
   "outputs": [],
   "source": []
  },
  {
   "cell_type": "markdown",
   "id": "a3867594-f6ab-400f-9618-765c4298f088",
   "metadata": {},
   "source": [
    "## Experiment 1: Data-Preprocessing: \n",
    "Handling Missing Values: We identified and removed any rows containing missing values.\n",
    "\n",
    "Feature Selection: We selected features that are likely to influence the rarity of the weapon, including Manufacturer, Damage Type, and Required Content.\n",
    "\n",
    "Feature Encoding: Since the features such as Manufacturer, Damage Type, and Rarity are categorical, we used Label Encoding to convert these into numerical values, which are necessary for machine learning models.\n",
    "\n",
    "Data Splitting: We split the data into a training set and a testing set to evaluate the model's performance."
   ]
  },
  {
   "cell_type": "code",
   "execution_count": 190,
   "id": "b5de0f33-c205-4496-804c-6e4d968c442d",
   "metadata": {},
   "outputs": [
    {
     "name": "stdout",
     "output_type": "stream",
     "text": [
      "First few rows of the pre-processed data:\n",
      "   Required Content           Item           Name  Manufacturer  Damage Type  Dropped By  Minimum Task Required  Location     Rarity\n",
      "0                 0  Assault Rifle  Hammer Buster             3           10          44                     75        49  Legendary\n",
      "1                 0  Assault Rifle     KerBlaster             6            2          46                     74        41  Legendary\n",
      "2                 0  Assault Rifle       Madhous!             0            4          40                     11        27  Legendary\n",
      "3                 0  Assault Rifle           Ogre             6            2          33                     48        31  Legendary\n",
      "4                 5  Assault Rifle     Shredifier             7            4          28                     35        64  Legendary\n",
      "\n",
      "Missing values after pre-processing:\n",
      "Required Content         0\n",
      "Item                     0\n",
      "Name                     0\n",
      "Manufacturer             0\n",
      "Damage Type              0\n",
      "Dropped By               0\n",
      "Minimum Task Required    0\n",
      "Location                 0\n",
      "Rarity                   0\n",
      "dtype: int64\n",
      "\n",
      "Unique values in 'Manufacturer' column after encoding:\n",
      "[3 6 0 7 1 4 5 2]\n"
     ]
    },
    {
     "name": "stderr",
     "output_type": "stream",
     "text": [
      "C:\\Users\\19857\\AppData\\Local\\Temp\\ipykernel_22124\\307330103.py:41: FutureWarning: DataFrame.fillna with 'method' is deprecated and will raise in a future version. Use obj.ffill() or obj.bfill() instead.\n",
      "  combined_df = combined_df.fillna(method='ffill')  # Forward fill for simplicity\n"
     ]
    }
   ],
   "source": [
    "import pandas as pd\n",
    "from sklearn.preprocessing import LabelEncoder\n",
    "\n",
    "pd.set_option('display.max_columns', None)\n",
    "pd.set_option('display.width', 1000)\n",
    "pd.set_option('display.expand_frame_repr', False)\n",
    "pd.set_option('display.max_colwidth', None)\n",
    "\n",
    "file_path = r\"C:\\Users\\19857\\Downloads\\Borderlands 2 Loot Multi Pages 150520012018.xlsx\"\n",
    "sheet_names = ['Assault Rifles', 'Grenades', 'Pistols', 'Rocket Launchers', 'Shotguns', 'Sniper Rifles', 'SMGs']\n",
    "\n",
    "weapon_dataframes = []\n",
    "\n",
    "for sheet_name in sheet_names:\n",
    "    df = pd.read_excel(file_path, sheet_name=sheet_name, skiprows=1)\n",
    "    df = df.drop(columns=['Flavor Text Perk'], errors='ignore')\n",
    "    \n",
    "    weapon_dataframes.append(df)\n",
    "\n",
    "combined_df = pd.concat(weapon_dataframes, ignore_index=True)\n",
    "\n",
    "features = ['Required Content', 'Manufacturer', 'Damage Type', 'Dropped By', 'Minimum Task Required', 'Location']\n",
    "target = 'Rarity'\n",
    "\n",
    "combined_df = combined_df.dropna(subset=[target])\n",
    "combined_df = combined_df.fillna(method='ffill')  \n",
    "\n",
    "label_encoders = {}\n",
    "for col in features:\n",
    "    if combined_df[col].dtype == 'object':  \n",
    "        label_encoder = LabelEncoder()\n",
    "        combined_df[col] = label_encoder.fit_transform(combined_df[col])\n",
    "        label_encoders[col] = label_encoder  \n",
    "\n",
    "\n",
    "print(\"First few rows of the pre-processed data:\")\n",
    "print(combined_df.head())\n",
    "print(\"\\nMissing values after pre-processing:\")\n",
    "print(combined_df.isnull().sum())\n",
    "\n",
    "print(\"\\nUnique values in 'Manufacturer' column after encoding:\")\n",
    "print(combined_df['Manufacturer'].unique())\n",
    "\n",
    "\n",
    "combined_df.to_csv('preprocessed_data.csv', index=False)\n",
    "X = combined_df[features]\n",
    "y = combined_df[target]\n",
    "\n",
    "X.to_csv('X_features.csv', index=False)\n",
    "y.to_csv('y_target.csv', index=False)\n"
   ]
  },
  {
   "cell_type": "markdown",
   "id": "3d0f2e4a-ec45-4365-a990-07f2c2e7b276",
   "metadata": {},
   "source": [
    "## Experiment 1: Modeling\n",
    "In this experiment, I’m creating a linear regression model using the features I’ve cleaned and selected. First, I’m converting the \"Rarity\" column into numeric values using LabelEncoder because it’s a categorical variable. After that, I’ll define the features (independent variables) and the target variable (dependent variable), which in this case is the \"Rarity\" that has now been encoded into numbers.\n",
    "\n",
    "Next, I’ll split the data into training and testing sets (80-20 split). Then, I’ll set up the linear regression model, train it using the training data, and test it on the test data."
   ]
  },
  {
   "cell_type": "code",
   "execution_count": 199,
   "id": "e1a36df9-60e4-45bf-9fd9-5cdc63adf68f",
   "metadata": {},
   "outputs": [],
   "source": [
    "from sklearn.linear_model import LinearRegression\n",
    "from sklearn.preprocessing import LabelEncoder\n",
    "from sklearn.model_selection import train_test_split\n",
    "from sklearn.metrics import mean_squared_error, r2_score\n",
    "\n",
    "label_encoder_rarity = LabelEncoder()\n",
    "combined_df['Rarity'] = label_encoder_rarity.fit_transform(combined_df['Rarity'])\n",
    "\n",
    "X = combined_df[features]\n",
    "y = combined_df['Rarity'] \n",
    "\n",
    "X_train, X_test, y_train, y_test = train_test_split(X, y, test_size=0.2, random_state=42)\n",
    "\n",
    "linear_model = LinearRegression(fit_intercept=True, copy_X=True, positive=False)\n",
    "linear_model.fit(X_train, y_train)\n",
    "y_pred_linear = linear_model.predict(X_test)"
   ]
  },
  {
   "cell_type": "markdown",
   "id": "3cb74f63-6afe-4ba3-a974-146d5f74103a",
   "metadata": {},
   "source": [
    "## Experiment 1: Evaluation\n",
    "For this experiment, we need to evaluate how well our model is performing. A good way to do this is by calculating the Root Mean Squared Error (RMSE), which helps us understand how far off our predictions are from the actual values. RMSE is the square root of the Mean Squared Error (MSE), which we already have from our model output:"
   ]
  },
  {
   "cell_type": "code",
   "execution_count": 201,
   "id": "d5bfdad0-922d-4087-b711-4f4056f00ab5",
   "metadata": {},
   "outputs": [
    {
     "name": "stdout",
     "output_type": "stream",
     "text": [
      "Mean Squared Error: 1.8685375751079552\n",
      "R-squared: -0.10346707191414661\n"
     ]
    }
   ],
   "source": [
    "mse = mean_squared_error(y_test, y_pred_linear)\n",
    "r_squared = r2_score(y_test, y_pred_linear)\n",
    "\n",
    "print(f\"Mean Squared Error: {mse}\")\n",
    "print(f\"R-squared: {r_squared}\")"
   ]
  },
  {
   "cell_type": "markdown",
   "id": "a24685b7-21aa-433c-98ba-17bd8b0029a9",
   "metadata": {},
   "source": [
    "# From the output, we can make a few conclusions:\n",
    "\n",
    "**Mean Squared Error (MSE):**\n",
    "\n",
    "- The MSE is 1.8685, which shows how far off the model's predictions are from the actual values. It's not a super high value, but without a reference, it's hard to say if it's good or not. Ideally, we want to lower this number.\n",
    "\n",
    "**R-Squared:**\n",
    "\n",
    "- The R-squared value is -0.1034, which is pretty low and even negative. This means that the model is not explaining the data well at all. In fact, it's worse than just predicting the average value all the time.\n",
    "\n",
    "**Conclusion:**\n",
    "- The negative R-squared tells us that the model is not working well and is making poor predictions.\n",
    "\n",
    "- The MSE isn’t huge, but since the R-squared is bad, we need to improve the model. It might need better features, a different approach, or more tuning"
   ]
  },
  {
   "cell_type": "code",
   "execution_count": null,
   "id": "48942fb2-34bf-4c0c-b9c7-212759031d3f",
   "metadata": {},
   "outputs": [],
   "source": []
  }
 ],
 "metadata": {
  "kernelspec": {
   "display_name": "Python [conda env:base] *",
   "language": "python",
   "name": "conda-base-py"
  },
  "language_info": {
   "codemirror_mode": {
    "name": "ipython",
    "version": 3
   },
   "file_extension": ".py",
   "mimetype": "text/x-python",
   "name": "python",
   "nbconvert_exporter": "python",
   "pygments_lexer": "ipython3",
   "version": "3.12.7"
  }
 },
 "nbformat": 4,
 "nbformat_minor": 5
}
